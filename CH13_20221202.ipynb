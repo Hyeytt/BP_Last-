{
  "nbformat": 4,
  "nbformat_minor": 0,
  "metadata": {
    "colab": {
      "provenance": [],
      "authorship_tag": "ABX9TyO8J/hFilVFO4yILpkVVN35",
      "include_colab_link": true
    },
    "kernelspec": {
      "name": "python3",
      "display_name": "Python 3"
    },
    "language_info": {
      "name": "python"
    }
  },
  "cells": [
    {
      "cell_type": "markdown",
      "metadata": {
        "id": "view-in-github",
        "colab_type": "text"
      },
      "source": [
        "<a href=\"https://colab.research.google.com/github/Hyeytt/Ch13_20221202/blob/main/CH13_20221202.ipynb\" target=\"_parent\"><img src=\"https://colab.research.google.com/assets/colab-badge.svg\" alt=\"Open In Colab\"/></a>"
      ]
    },
    {
      "cell_type": "code",
      "execution_count": null,
      "metadata": {
        "id": "ulzW-ci5jw-G"
      },
      "outputs": [],
      "source": []
    },
    {
      "cell_type": "markdown",
      "source": [
        "13장 객체란   \n",
        "             \n",
        "1.객체의 정의 : 함수와 변수를 하나의 단위로 묶을 수있는 방법\n",
        "\n",
        "2.oop 라는게 있음 : oop? 객체 지향\n",
        "\n",
        "\n",
        "3. 중요 중요 중요\n",
        "             \n",
        "객체.속성.   동작   에 대한 속성\n",
        "\n",
        "alex.forward (100) \n",
        "\n",
        "변수표기방법 대문자로 : 3가지 카멜 대소문자, 스네이크 언더바 언더마 이닛(초기화), 파스칼(대문자)\n",
        "\n",
        "클래스를 선언 \n",
        "  \n",
        "  def 함수를 만들어라 drive라는 () self라는 속성부여\n",
        "   .speed 동작에 대한 변수 값  \n",
        "\n",
        "myCar = Car()  myCar에다가 담음\n",
        "\n",
        "\"blue\" 속성값  \"\"괄호안에 있어서 문자열로 값을 정해줌\n",
        "\n",
        "\n",
        "\n",
        "\n",
        "초기화 __init_- 클래스 선언을 하면서 초기화 기본값들을 넣겠다\n",
        "초기화함\n",
        "\n",
        "drive함수를 만든다 self의 속성을  가져옴 \n",
        "\n",
        "하나ㅢ 클래스로 여러 객체를 생성할 수 있다\n",
        "\n",
        "\n",
        "\n",
        "STr함수는 문자열을 사용하ㅣㄱ때 씀 \n",
        "self는무엇인가\n",
        "\n",
        "속도는 60이다는 함수를 정해준다\n",
        "변수를 나중에 선언했기때문에\n",
        "\n",
        "\n",
        "\n"
      ],
      "metadata": {
        "id": "_oTyVD_Qj217"
      }
    },
    {
      "cell_type": "code",
      "source": [],
      "metadata": {
        "id": "0gf70soFrIeC"
      },
      "execution_count": null,
      "outputs": []
    }
  ]
}